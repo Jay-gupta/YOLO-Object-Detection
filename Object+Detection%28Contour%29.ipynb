{
 "cells": [
  {
   "cell_type": "code",
   "execution_count": 1,
   "metadata": {
    "collapsed": true
   },
   "outputs": [],
   "source": [
    "%matplotlib inline\n",
    "import cv2\n",
    "import matplotlib\n",
    "from matplotlib import colors\n",
    "from matplotlib import pyplot as plt\n",
    "import numpy as np\n",
    "from __future__ import division"
   ]
  },
  {
   "cell_type": "code",
   "execution_count": 2,
   "metadata": {
    "collapsed": true
   },
   "outputs": [],
   "source": [
    "def show(image):\n",
    "    # Figure size in inches\n",
    "    plt.figure(figsize=(15, 15))\n",
    "    \n",
    "    # Show image, with nearest neighbour interpolation\n",
    "    plt.imshow(image, interpolation='nearest')\n",
    "    \n",
    "def show_hsv(hsv):\n",
    "    rgb = cv2.cvtColor(hsv, cv2.COLOR_HSV2BGR)\n",
    "    show(rgb)\n",
    "    \n",
    "def show_mask(mask):\n",
    "    plt.figure(figsize=(10, 10))\n",
    "    plt.imshow(mask, cmap='gray')\n",
    "    \n",
    "def overlay_mask(mask, image):\n",
    "    rgb_mask = cv2.cvtColor(mask, cv2.COLOR_GRAY2RGB)\n",
    "    img = cv2.addWeighted(rgb_mask, 0.5, image, 0.5, 0)\n",
    "    show(img)"
   ]
  },
  {
   "cell_type": "code",
   "execution_count": 9,
   "metadata": {
    "collapsed": true
   },
   "outputs": [],
   "source": [
    "#Working Directory\n",
    "import os\n",
    "os.chdir(\"/Users/pratham/Downloads\")"
   ]
  },
  {
   "cell_type": "code",
   "execution_count": 10,
   "metadata": {
    "collapsed": true
   },
   "outputs": [],
   "source": [
    "image = cv2.imread('kiwi.jpg')"
   ]
  },
  {
   "cell_type": "code",
   "execution_count": 1,
   "metadata": {},
   "outputs": [],
   "source": [
    "image.shape"
   ]
  },
  {
   "cell_type": "code",
   "execution_count": null,
   "metadata": {
    "collapsed": true
   },
   "outputs": [],
   "source": [
    "import pandas as pd\n",
    "m,n,r = image.shape\n",
    "arr = image.reshape(m*n, -1)\n",
    "df = pd.DataFrame(arr, columns=['b', 'g', 'r'])\n",
    "df.describe()"
   ]
  },
  {
   "cell_type": "code",
   "execution_count": null,
   "metadata": {
    "collapsed": true
   },
   "outputs": [],
   "source": [
    "# Convert from BGR to RGB\n",
    "image = cv2.cvtColor(image, cv2.COLOR_BGR2RGB)\n",
    "\n",
    "# Resize to a third of the size\n",
    "image = cv2.resize(image, None, fx=1/3, fy=1/3)"
   ]
  },
  {
   "cell_type": "code",
   "execution_count": null,
   "metadata": {
    "collapsed": true
   },
   "outputs": [],
   "source": [
    "show(image)"
   ]
  },
  {
   "cell_type": "code",
   "execution_count": null,
   "metadata": {
    "collapsed": true
   },
   "outputs": [],
   "source": [
    "# Show Red/Green/Blue\n",
    "images = []\n",
    "for i in [0, 1, 2]:\n",
    "    colour = image.copy()\n",
    "    if i != 0: colour[:,:,0] = 0\n",
    "    if i != 1: colour[:,:,1] = 0\n",
    "    if i != 2: colour[:,:,2] = 0\n",
    "    images.append(colour)\n",
    "    \n",
    "show(np.vstack(images))"
   ]
  },
  {
   "cell_type": "code",
   "execution_count": null,
   "metadata": {
    "collapsed": true
   },
   "outputs": [],
   "source": [
    "def show_rgb_hist(image):\n",
    "    colours = ('r','g','b')\n",
    "    for i, c in enumerate(colours):\n",
    "        plt.figure(figsize=(20, 4))\n",
    "        histr = cv2.calcHist([image], [i], None, [256], [0, 256])\n",
    "#         plt.plot(histr, color=c, lw=2)\n",
    "        \n",
    "        if c == 'r': colours = [((i/256, 0, 0)) for i in range(0, 256)]\n",
    "        if c == 'g': colours = [((0, i/256, 0)) for i in range(0, 256)]\n",
    "        if c == 'b': colours = [((0, 0, i/256)) for i in range(0, 256)]\n",
    "        \n",
    "        plt.bar(range(0, 256), histr, color=colours, edgecolor=colours, width=1)\n",
    "#         plt.xlim([0, 256])\n",
    "\n",
    "        plt.show()\n",
    "    \n",
    "show_rgb_hist(image)"
   ]
  },
  {
   "cell_type": "code",
   "execution_count": null,
   "metadata": {
    "collapsed": true
   },
   "outputs": [],
   "source": [
    "# Convert from RGB to HSV\n",
    "hsv = cv2.cvtColor(image, cv2.COLOR_RGB2HSV)\n",
    "\n",
    "images = []\n",
    "for i in [0, 1, 2]:\n",
    "    colour = hsv.copy()\n",
    "    if i != 0: colour[:,:,0] = 0\n",
    "    if i != 1: colour[:,:,1] = 255\n",
    "    if i != 2: colour[:,:,2] = 255\n",
    "    images.append(colour)\n",
    "    \n",
    "hsv_stack = np.vstack(images)\n",
    "rgb_stack = cv2.cvtColor(hsv_stack, cv2.COLOR_HSV2RGB)\n",
    "show(rgb_stack)"
   ]
  },
  {
   "cell_type": "code",
   "execution_count": null,
   "metadata": {
    "collapsed": true
   },
   "outputs": [],
   "source": [
    "\n",
    "matplotlib.rcParams.update({'font.size': 16})\n",
    "\n",
    "def show_hsv_hist(image):\n",
    "    # Hue\n",
    "    plt.figure(figsize=(20, 3))\n",
    "    histr = cv2.calcHist([image], [0], None, [180], [0, 180])\n",
    "    plt.xlim([0, 180])\n",
    "    colours = [colors.hsv_to_rgb((i/180, 1, 0.9)) for i in range(0, 180)]\n",
    "    plt.bar(range(0, 180), histr, color=colours, edgecolor=colours, width=1)\n",
    "    plt.title('Hue')\n",
    "\n",
    "    # Saturation\n",
    "    plt.figure(figsize=(20, 3))\n",
    "    histr = cv2.calcHist([image], [1], None, [256], [0, 256])\n",
    "    plt.xlim([0, 256])\n",
    "\n",
    "    colours = [colors.hsv_to_rgb((0, i/256, 1)) for i in range(0, 256)]\n",
    "    plt.bar(range(0, 256), histr, color=colours, edgecolor=colours, width=1)\n",
    "    plt.title('Saturation')\n",
    "\n",
    "    # Value\n",
    "    plt.figure(figsize=(20, 3))\n",
    "    histr = cv2.calcHist([image], [2], None, [256], [0, 256])\n",
    "    plt.xlim([0, 256])\n",
    "\n",
    "    colours = [colors.hsv_to_rgb((0, 1, i/256)) for i in range(0, 256)]\n",
    "    plt.bar(range(0, 256), histr, color=colours, edgecolor=colours, width=1)\n",
    "    plt.title('Value')\n",
    "    \n",
    "show_hsv_hist(hsv)"
   ]
  },
  {
   "cell_type": "code",
   "execution_count": null,
   "metadata": {
    "collapsed": true
   },
   "outputs": [],
   "source": [
    "# Blur image slightly\n",
    "image_blur = cv2.GaussianBlur(image, (7, 7), 0)\n",
    "show(image_blur)"
   ]
  },
  {
   "cell_type": "code",
   "execution_count": null,
   "metadata": {
    "collapsed": true
   },
   "outputs": [],
   "source": [
    "image_cropped = image[100:300, 200:500]\n",
    "show(image_cropped)\n",
    "# image_rect_hsv = cv2.cvtColor(image_rect, cv2.COLOR_RGB2HSV)\n",
    "# show_hsv_hist(image_rect_hsv)"
   ]
  },
  {
   "cell_type": "code",
   "execution_count": null,
   "metadata": {
    "collapsed": true
   },
   "outputs": [],
   "source": [
    "image_blur_hsv = cv2.cvtColor(image_blur, cv2.COLOR_RGB2HSV)\n",
    "\n",
    "# 0-10 hue\n",
    "min_red = np.array([0, 100, 80])\n",
    "max_red = np.array([10, 256, 256])\n",
    "image_red1 = cv2.inRange(image_blur_hsv, min_red, max_red)\n",
    "\n",
    "# 170-180 hue\n",
    "min_red2 = np.array([170, 100, 80])\n",
    "max_red2 = np.array([180, 256, 256])\n",
    "image_red2 = cv2.inRange(image_blur_hsv, min_red2, max_red2)\n",
    "\n",
    "show_mask(image_red1)\n",
    "show_mask(image_red2)\n",
    "image_red = image_red1 + image_red2\n",
    "show_mask(image_red)"
   ]
  },
  {
   "cell_type": "code",
   "execution_count": null,
   "metadata": {
    "collapsed": true
   },
   "outputs": [],
   "source": [
    "# Clean up\n",
    "kernel = cv2.getStructuringElement(cv2.MORPH_ELLIPSE, (15, 15))\n",
    "\n",
    "# image_red_eroded = cv2.morphologyEx(image_red, cv2.MORPH_ERODE, kernel)\n",
    "# show_mask(image_red_eroded)\n",
    "\n",
    "# image_red_dilated = cv2.morphologyEx(image_red, cv2.MORPH_DILATE, kernel)\n",
    "# show_mask(image_red_dilated)\n",
    "\n",
    "# image_red_opened = cv2.morphologyEx(image_red, cv2.MORPH_OPEN, kernel)\n",
    "# show_mask(image_red_opened)\n",
    "\n",
    "# Fill small gaps\n",
    "image_red_closed = cv2.morphologyEx(image_red, cv2.MORPH_CLOSE, kernel)\n",
    "show_mask(image_red_closed)\n",
    "\n",
    "# Remove specks\n",
    "image_red_closed_then_opened = cv2.morphologyEx(image_red_closed, cv2.MORPH_OPEN, kernel)\n",
    "show_mask(image_red_closed_then_opened)"
   ]
  },
  {
   "cell_type": "code",
   "execution_count": null,
   "metadata": {
    "collapsed": true
   },
   "outputs": [],
   "source": [
    "def find_biggest_contour(image):\n",
    "    \n",
    "    # Copy to prevent modification\n",
    "    image = image.copy()\n",
    "    #contours, hierarchy = cv2.findContours(image, cv2.RETR_LIST, cv2.CHAIN_APPROX_SIMPLE)\n",
    "    image, contours, hierarchy =   cv2.findContours(image.copy(),cv2.RETR_LIST,cv2.CHAIN_APPROX_SIMPLE)\n",
    "\n",
    "    print len(contours)\n",
    "\n",
    "    # Isolate largest contour\n",
    "    contour_sizes = [(cv2.contourArea(contour), contour) for contour in contours]\n",
    "    biggest_contour = max(contour_sizes, key=lambda x: x[0])[1]\n",
    " \n",
    "    mask = np.zeros(image.shape, np.uint8)\n",
    "    cv2.drawContours(mask, [biggest_contour], -1, 255, -1)\n",
    "    return biggest_contour, mask\n",
    "\n",
    "big_contour, red_mask = find_biggest_contour(image_red_closed_then_opened)\n",
    "show_mask(red_mask)"
   ]
  },
  {
   "cell_type": "code",
   "execution_count": null,
   "metadata": {
    "collapsed": true,
    "scrolled": true
   },
   "outputs": [],
   "source": [
    "overlay_mask(red_mask, image)"
   ]
  },
  {
   "cell_type": "code",
   "execution_count": null,
   "metadata": {
    "collapsed": true
   },
   "outputs": [],
   "source": [
    "# Centre of mass\n",
    "moments = cv2.moments(red_mask)\n",
    "centre_of_mass = int(moments['m10'] / moments['m00']), int(moments['m01'] / moments['m00'])\n",
    "image_with_com = image.copy()\n",
    "cv2.circle(image_with_com, centre_of_mass, 10, (0, 255, 0), -1)\n",
    "show(image_with_com)\n",
    "\n",
    "# Bounding ellipse\n",
    "image_with_ellipse = image.copy()\n",
    "ellipse = cv2.fitEllipse(big_contour)\n",
    "cv2.ellipse(image_with_ellipse, ellipse, (0,255,0), 2)\n",
    "show(image_with_ellipse)"
   ]
  },
  {
   "cell_type": "code",
   "execution_count": null,
   "metadata": {
    "collapsed": true
   },
   "outputs": [],
   "source": []
  }
 ],
 "metadata": {
  "kernelspec": {
   "display_name": "Python 2",
   "language": "python",
   "name": "python2"
  },
  "language_info": {
   "codemirror_mode": {
    "name": "ipython",
    "version": 2
   },
   "file_extension": ".py",
   "mimetype": "text/x-python",
   "name": "python",
   "nbconvert_exporter": "python",
   "pygments_lexer": "ipython2",
   "version": "2.7.13"
  }
 },
 "nbformat": 4,
 "nbformat_minor": 2
}
