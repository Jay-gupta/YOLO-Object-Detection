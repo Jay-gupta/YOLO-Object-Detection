{
 "cells": [
  {
   "cell_type": "code",
   "execution_count": 2,
   "metadata": {},
   "outputs": [
    {
     "name": "stderr",
     "output_type": "stream",
     "text": [
      "Using TensorFlow backend.\n"
     ]
    }
   ],
   "source": [
    "import numpy as np\n",
    "import matplotlib.pyplot as plt\n",
    "import cv2\n",
    "import glob\n",
    "from moviepy.editor import VideoFileClip\n",
    "from IPython.display import HTML\n",
    "%matplotlib inline\n",
    "\n",
    "import keras # broken for keras >= 2.0, use 1.2.2\n",
    "from keras.models import Sequential\n",
    "from keras.layers.convolutional import Convolution2D, MaxPooling2D\n",
    "from keras.layers.advanced_activations import LeakyReLU\n",
    "from keras.layers.core import Flatten, Dense, Activation, Reshape\n",
    "\n",
    "import utils"
   ]
  },
  {
   "cell_type": "code",
   "execution_count": 4,
   "metadata": {},
   "outputs": [
    {
     "name": "stdout",
     "output_type": "stream",
     "text": [
      "Imageio: 'ffmpeg.osx' was not found on your computer; downloading it now.\n",
      "Try 1. Download from https://github.com/imageio/imageio-binaries/raw/master/ffmpeg/ffmpeg.osx (28.8 MB)\n",
      "Downloading: 8192/30241064 bytes (0.016384/30241064 bytes (0.1%24576/30241064 bytes (0.1%32768/30241064 bytes (0.1%49152/30241064 bytes (0.2%90112/30241064 bytes (0.3%114688/30241064 bytes (0.4147456/30241064 bytes (0.5180224/30241064 bytes (0.6229376/30241064 bytes (0.8311296/30241064 bytes (1.0360448/30241064 bytes (1.2409600/30241064 bytes (1.4458752/30241064 bytes (1.5491520/30241064 bytes (1.6540672/30241064 bytes (1.8573440/30241064 bytes (1.9638976/30241064 bytes (2.1671744/30241064 bytes (2.2720896/30241064 bytes (2.4786432/30241064 bytes (2.6819200/30241064 bytes (2.7884736/30241064 bytes (2.9917504/30241064 bytes (3.0983040/30241064 bytes (3.31032192/30241064 bytes (3.4%1081344/30241064 bytes (3.6%1146880/30241064 bytes (3.8%1196032/30241064 bytes (4.0%1261568/30241064 bytes (4.2%1327104/30241064 bytes (4.4%1392640/30241064 bytes (4.6%1458176/30241064 bytes (4.8%1507328/30241064 bytes (5.0%1556480/30241064 bytes (5.1%1622016/30241064 bytes (5.4%1671168/30241064 bytes (5.5%1736704/30241064 bytes (5.7%1802240/30241064 bytes (6.0%1835008/30241064 bytes (6.1%1884160/30241064 bytes (6.2%1982464/30241064 bytes (6.6%2048000/30241064 bytes (6.8%2113536/30241064 bytes (7.0%2162688/30241064 bytes (7.2%2228224/30241064 bytes (7.4%2260992/30241064 bytes (7.5%2342912/30241064 bytes (7.7%2408448/30241064 bytes (8.0%2555904/30241064 bytes (8.5%2605056/30241064 bytes (8.6%2686976/30241064 bytes (8.9%2785280/30241064 bytes (9.2%2867200/30241064 bytes (9.5%3047424/30241064 bytes (10.13096576/30241064 bytes (10.23178496/30241064 bytes (10.53260416/30241064 bytes (10.83325952/30241064 bytes (11.03440640/30241064 bytes (11.43506176/30241064 bytes (11.63555328/30241064 bytes (11.83620864/30241064 bytes (12.03670016/30241064 bytes (12.13719168/30241064 bytes (12.33768320/30241064 bytes (12.53833856/30241064 bytes (12.73899392/30241064 bytes (12.93964928/30241064 bytes (13.14030464/30241064 bytes (13.34079616/30241064 bytes (13.54145152/30241064 bytes (13.74210688/30241064 bytes (13.94259840/30241064 bytes (14.14325376/30241064 bytes (14.34390912/30241064 bytes (14.54440064/30241064 bytes (14.74505600/30241064 bytes (14.94571136/30241064 bytes (15.14620288/30241064 bytes (15.34669440/30241064 bytes (15.44718592/30241064 bytes (15.64767744/30241064 bytes (15.84816896/30241064 bytes (15.94882432/30241064 bytes (16.14947968/30241064 bytes (16.44997120/30241064 bytes (16.55046272/30241064 bytes (16.75111808/30241064 bytes (16.95177344/30241064 bytes (17.15226496/30241064 bytes (17.35275648/30241064 bytes (17.45292032/30241064 bytes (17.55865472/30241064 bytes (19.45914624/30241064 bytes (19.65980160/30241064 bytes (19.86045696/30241064 bytes (20.06111232/30241064 bytes (20.26160384/30241064 bytes (20.46217728/30241064 bytes (20.66266880/30241064 bytes (20.76307840/30241064 bytes (20.96438912/30241064 bytes (21.36569984/30241064 bytes (21.76651904/30241064 bytes (22.07225344/30241064 bytes (23.97290880/30241064 bytes (24.17356416/30241064 bytes (24.37454720/30241064 bytes (24.77520256/30241064 bytes (24.97618560/30241064 bytes (25.27700480/30241064 bytes (25.57782400/30241064 bytes (25.77880704/30241064 bytes (26.17995392/30241064 bytes (26.48126464/30241064 bytes (26.98208384/30241064 bytes (27.18257536/30241064 bytes (27.38306688/30241064 bytes (27.58372224/30241064 bytes (27.78437760/30241064 bytes (27.98503296/30241064 bytes (28.18568832/30241064 bytes (28.38634368/30241064 bytes (28.68699904/30241064 bytes (28.88781824/30241064 bytes (29.08830976/30241064 bytes (29.28896512/30241064 bytes (29.48962048/30241064 bytes (29.69027584/30241064 bytes (29.99093120/30241064 bytes (30.19158656/30241064 bytes (30.39207808/30241064 bytes (30.49256960/30241064 bytes (30.69289728/30241064 bytes (30.79338880/30241064 bytes (30.99388032/30241064 bytes (31.09420800/30241064 bytes (31.29469952/30241064 bytes (31.39527296/30241064 bytes (31.59568256/30241064 bytes (31.69601024/30241064 bytes (31.79633792/30241064 bytes (31.99682944/30241064 bytes (32.09732096/30241064 bytes (32.29781248/30241064 bytes (32.39846784/30241064 bytes (32.69912320/30241064 bytes (32.89977856/30241064 bytes (33.010076160/30241064 bytes (33.3%10141696/30241064 bytes (33.5%10207232/30241064 bytes (33.8%10256384/30241064 bytes (33.9%10305536/30241064 bytes (34.1%10354688/30241064 bytes (34.2%10403840/30241064 bytes (34.4%10469376/30241064 bytes (34.6%10518528/30241064 bytes (34.8%10551296/30241064 bytes (34.9%10600448/30241064 bytes (35.1%10649600/30241064 bytes (35.2%10715136/30241064 bytes (35.4%10797056/30241064 bytes (35.7%10878976/30241064 bytes (36.0%10944512/30241064 bytes (36.2%11091968/30241064 bytes (36.7%11583488/30241064 bytes (38.3%11665408/30241064 bytes (38.6%11681792/30241064 bytes (38.6%11763712/30241064 bytes (38.9%11862016/30241064 bytes (39.2%11927552/30241064 bytes (39.4%11943936/30241064 bytes (39.5%12386304/30241064 bytes (41.0%12484608/30241064 bytes (41.3%12550144/30241064 bytes (41.5%12648448/30241064 bytes (41.8%12730368/30241064 bytes (42.1%12812288/30241064 bytes (42.4%12894208/30241064 bytes (42.6%13189120/30241064 bytes (43.6%13238272/30241064 bytes (43.8%13303808/30241064 bytes (44.0%13369344/30241064 bytes (44.2%13434880/30241064 bytes (44.4%13500416/30241064 bytes (44.6%13549568/30241064 bytes (44.8%13582336/30241064 bytes (44.9%13631488/30241064 bytes (45.1%13680640/30241064 bytes (45.2%13729792/30241064 bytes (45.4%13778944/30241064 bytes (45.6%13844480/30241064 bytes (45.8%13910016/30241064 bytes (46.0%13959168/30241064 bytes (46.2%14024704/30241064 bytes (46.4%14090240/30241064 bytes (46.6%14139392/30241064 bytes (46.8%14204928/30241064 bytes (47.0%14270464/30241064 bytes (47.2%14336000/30241064 bytes (47.4%14401536/30241064 bytes (47.6%14450688/30241064 bytes (47.8%14516224/30241064 bytes (48.0%14581760/30241064 bytes (48.2%14630912/30241064 bytes (48.4%14680064/30241064 bytes (48.5%14712832/30241064 bytes (48.7%14761984/30241064 bytes (48.8%14794752/30241064 bytes (48.9%14827520/30241064 bytes (49.0%14860288/30241064 bytes (49.1%14893056/30241064 bytes (49.2%14909440/30241064 bytes (49.3%14958592/30241064 bytes (49.5%15007744/30241064 bytes (49.6%15040512/30241064 bytes (49.7%15089664/30241064 bytes (49.9%15138816/30241064 bytes (50.1%15187968/30241064 bytes (50.2%15253504/30241064 bytes (50.4%15319040/30241064 bytes (50.7%15384576/30241064 bytes (50.9%15433728/30241064 bytes (51.0%15499264/30241064 bytes (51.3%15564800/30241064 bytes (51.5%15613952/30241064 bytes (51.6%15663104/30241064 bytes (51.8%15712256/30241064 bytes (52.0%15761408/30241064 bytes (52.1%15859712/30241064 bytes (52.4%15908864/30241064 bytes (52.6%15941632/30241064 bytes (52.7%16072704/30241064 bytes (53.1%16138240/30241064 bytes (53.4%16171008/30241064 bytes (53.5%16236544/30241064 bytes (53.7%16302080/30241064 bytes (53.9%16334848/30241064 bytes (54.0%16433152/30241064 bytes (54.3%16531456/30241064 bytes (54.7%16613376/30241064 bytes (54.9%16891904/30241064 bytes (55.9%16957440/30241064 bytes (56.1%17022976/30241064 bytes (56.3%17121280/30241064 bytes (56.6%17219584/30241064 bytes (56.9%17285120/30241064 bytes (57.2%17350656/30241064 bytes (57.4%17399808/30241064 bytes (57.5%17448960/30241064 bytes (57.7%17514496/30241064 bytes (57.9%17547264/30241064 bytes (58.0%17612800/30241064 bytes (58.2%17629184/30241064 bytes (58.3%17645568/30241064 bytes (58.3%17694720/30241064 bytes (58.5%17727488/30241064 bytes (58.6%17776640/30241064 bytes (58.8%17825792/30241064 bytes (58.9%17874944/30241064 bytes (59.1%17907712/30241064 bytes (59.2%17956864/30241064 bytes (59.4%18006016/30241064 bytes (59.5%18055168/30241064 bytes (59.7%18104320/30241064 bytes (59.9%18137088/30241064 bytes (60.0%18186240/30241064 bytes (60.1%18202624/30241064 bytes (60.2%18235392/30241064 bytes (60.3%18268160/30241064 bytes (60.4%18300928/30241064 bytes (60.5%18317312/30241064 bytes (60.6%18350080/30241064 bytes (60.7%18382848/30241064 bytes (60.8%18432000/30241064 bytes (61.0%18448384/30241064 bytes (61.0%18481152/30241064 bytes (61.1%18530304/30241064 bytes (61.3%18563072/30241064 bytes (61.4%18612224/30241064 bytes (61.5%18661376/30241064 bytes (61.7%18694144/30241064 bytes (61.8%18825216/30241064 bytes (62.3%18874368/30241064 bytes (62.4%18923520/30241064 bytes (62.6%18972672/30241064 bytes (62.7%19021824/30241064 bytes (62.9%19054592/30241064 bytes (63.0%19087360/30241064 bytes (63.1%19136512/30241064 bytes (63.3%19243008/30241064 bytes (63.6%19259392/30241064 bytes (63.7%19349504/30241064 bytes (64.0%19398656/30241064 bytes (64.1%19464192/30241064 bytes (64.4%19480576/30241064 bytes (64.4%19562496/30241064 bytes (64.7%19611648/30241064 bytes (64.9%19677184/30241064 bytes (65.1%19742720/30241064 bytes (65.3%19759104/30241064 bytes (65.3%19939328/30241064 bytes (65.9%20037632/30241064 bytes (66.3%20201472/30241064 bytes (66.8%20217856/30241064 bytes (66.9%20316160/30241064 bytes (67.2%20398080/30241064 bytes (67.5%20447232/30241064 bytes (67.6%20594688/30241064 bytes (68.1%20643840/30241064 bytes (68.3%20709376/30241064 bytes (68.5%20774912/30241064 bytes (68.7%20856832/30241064 bytes (69.0%20938752/30241064 bytes (69.2%20987904/30241064 bytes (69.4%21037056/30241064 bytes (69.6%21069824/30241064 bytes (69.7%21118976/30241064 bytes (69.8%21168128/30241064 bytes (70.0%21200896/30241064 bytes (70.1%21250048/30241064 bytes (70.3%21266432/30241064 bytes (70.3%21495808/30241064 bytes (71.1%21512192/30241064 bytes (71.1%21544960/30241064 bytes (71.2%21561344/30241064 bytes (71.3%21872640/30241064 bytes (72.3%21921792/30241064 bytes (72.5%21970944/30241064 bytes (72.7%22011904/30241064 bytes (72.8%22052864/30241064 bytes (72.9%22085632/30241064 bytes (73.0%22118400/30241064 bytes (73.1%22151168/30241064 bytes (73.2%22183936/30241064 bytes (73.4%22200320/30241064 bytes (73.4%22233088/30241064 bytes (73.5%22282240/30241064 bytes (73.7%22315008/30241064 bytes (73.8%22364160/30241064 bytes (74.0%22413312/30241064 bytes (74.1%22446080/30241064 bytes (74.2%22478848/30241064 bytes (74.3%22528000/30241064 bytes (74.5%22577152/30241064 bytes (74.7%22593536/30241064 bytes (74.7%22724608/30241064 bytes (75.1%22757376/30241064 bytes (75.3%22773760/30241064 bytes (75.3%22822912/30241064 bytes (75.5%22888448/30241064 bytes (75.7%22953984/30241064 bytes (75.9%23019520/30241064 bytes (76.1%23085056/30241064 bytes (76.3%23166976/30241064 bytes (76.6%23183360/30241064 bytes (76.7%23265280/30241064 bytes (76.9%23330816/30241064 bytes (77.1%23412736/30241064 bytes (77.4%23478272/30241064 bytes (77.6%23560192/30241064 bytes (77.9%23592960/30241064 bytes (78.0%23658496/30241064 bytes (78.2%23756800/30241064 bytes (78.6%23822336/30241064 bytes (78.8%23953408/30241064 bytes (79.2%23986176/30241064 bytes (79.3%24035328/30241064 bytes (79.5%24068096/30241064 bytes (79.6%24117248/30241064 bytes (79.7%24150016/30241064 bytes (79.9%24199168/30241064 bytes (80.0%24248320/30241064 bytes (80.2%24297472/30241064 bytes (80.3%24346624/30241064 bytes (80.5%24395776/30241064 bytes (80.7%24444928/30241064 bytes (80.8%24494080/30241064 bytes (81.0%24526848/30241064 bytes (81.1%24543232/30241064 bytes (81.2%24772608/30241064 bytes (81.9%24821760/30241064 bytes (82.1%24854528/30241064 bytes (82.2%24903680/30241064 bytes (82.4%24969216/30241064 bytes (82.6%25018368/30241064 bytes (82.7%25067520/30241064 bytes (82.9%25116672/30241064 bytes (83.1%25165824/30241064 bytes (83.2%25231360/30241064 bytes (83.4%25280512/30241064 bytes (83.6%25329664/30241064 bytes (83.8%25378816/30241064 bytes (83.9%25427968/30241064 bytes (84.1%25477120/30241064 bytes (84.2%25526272/30241064 bytes (84.4%25575424/30241064 bytes (84.6%25624576/30241064 bytes (84.7%25673728/30241064 bytes (84.9%25722880/30241064 bytes (85.1%25772032/30241064 bytes (85.2%25821184/30241064 bytes (85.4%25870336/30241064 bytes (85.5%25919488/30241064 bytes (85.7%25968640/30241064 bytes (85.9%26017792/30241064 bytes (86.0%26066944/30241064 bytes (86.2%26099712/30241064 bytes (86.3%26132480/30241064 bytes (86.4%26165248/30241064 bytes (86.5%26263552/30241064 bytes (86.8%26361856/30241064 bytes (87.2%26443776/30241064 bytes (87.4%26492928/30241064 bytes (87.6%26558464/30241064 bytes (87.8%26607616/30241064 bytes (88.0%26656768/30241064 bytes (88.1%26722304/30241064 bytes (88.4%26804224/30241064 bytes (88.6%26853376/30241064 bytes (88.8%26951680/30241064 bytes (89.1%26968064/30241064 bytes (89.2%27033600/30241064 bytes (89.4%27131904/30241064 bytes (89.7%27197440/30241064 bytes (89.9%27230208/30241064 bytes (90.0%27377664/30241064 bytes (90.5%27459584/30241064 bytes (90.8%27541504/30241064 bytes (91.1%27713536/30241064 bytes (91.6%27738112/30241064 bytes (91.7%27787264/30241064 bytes (91.9%27852800/30241064 bytes (92.1%27901952/30241064 bytes (92.3%27967488/30241064 bytes (92.5%28016640/30241064 bytes (92.6%28098560/30241064 bytes (92.9%28164096/30241064 bytes (93.1%28229632/30241064 bytes (93.3%28377088/30241064 bytes (93.8%28426240/30241064 bytes (94.0%28475392/30241064 bytes (94.2%28524544/30241064 bytes (94.3%28573696/30241064 bytes (94.5%28622848/30241064 bytes (94.6%28688384/30241064 bytes (94.9%28770304/30241064 bytes (95.1%28835840/30241064 bytes (95.4%28901376/30241064 bytes (95.6%28966912/30241064 bytes (95.8%28999680/30241064 bytes (95.9%29016064/30241064 bytes (95.9%29081600/30241064 bytes (96.2%29097984/30241064 bytes (96.2%29114368/30241064 bytes (96.3%29196288/30241064 bytes (96.5%29212672/30241064 bytes (96.6%29261824/30241064 bytes (96.8%29310976/30241064 bytes (96.9%29327360/30241064 bytes (97.0%29343744/30241064 bytes (97.0%29360128/30241064 bytes (97.1%29376512/30241064 bytes (97.1%29392896/30241064 bytes (97.2%29409280/30241064 bytes (97.2%29433856/30241064 bytes (97.3%29450240/30241064 bytes (97.4%29458432/30241064 bytes (97.4%29491200/30241064 bytes (97.5%29523968/30241064 bytes (97.6%29573120/30241064 bytes (97.8%29638656/30241064 bytes (98.0%29736960/30241064 bytes (98.3%29769728/30241064 bytes (98.4%29917184/30241064 bytes (98.9%29982720/30241064 bytes (99.1%29999104/30241064 bytes (99.2%30031872/30241064 bytes (99.3%30064640/30241064 bytes (99.4%30081024/30241064 bytes (99.5%30097408/30241064 bytes (99.5%30162944/30241064 bytes (99.7%30195712/30241064 bytes (99.9%30241064/30241064 bytes (100.0%)\n",
      "  Done\n",
      "File saved as /Users/pratham/Library/Application Support/imageio/ffmpeg/ffmpeg.osx.\n"
     ]
    }
   ],
   "source": [
    "import imageio\n",
    "imageio.plugins.ffmpeg.download()"
   ]
  },
  {
   "cell_type": "code",
   "execution_count": 7,
   "metadata": {
    "collapsed": true
   },
   "outputs": [],
   "source": [
    "#Constructing the yolo model- tiny\n",
    "keras.backend.set_image_dim_ordering('th')"
   ]
  },
  {
   "cell_type": "code",
   "execution_count": null,
   "metadata": {
    "collapsed": true
   },
   "outputs": [],
   "source": [
    "#Model Architecture\n",
    "\n",
    "model = Sequential()\n",
    "model.add(Convolution2D(16, 3, 3,input_shape=(3,448,448),border_mode='same',subsample=(1,1)))\n",
    "model.add(LeakyReLU(alpha=0.1))\n",
    "model.add(MaxPooling2D(pool_size=(2, 2)))\n",
    "model.add(Convolution2D(32,3,3 ,border_mode='same'))\n",
    "model.add(LeakyReLU(alpha=0.1))\n",
    "model.add(MaxPooling2D(pool_size=(2, 2),border_mode='valid'))\n",
    "model.add(Convolution2D(64,3,3 ,border_mode='same'))\n",
    "model.add(LeakyReLU(alpha=0.1))\n",
    "model.add(MaxPooling2D(pool_size=(2, 2),border_mode='valid'))\n",
    "model.add(Convolution2D(128,3,3 ,border_mode='same'))\n",
    "model.add(LeakyReLU(alpha=0.1))\n",
    "model.add(MaxPooling2D(pool_size=(2, 2),border_mode='valid'))\n",
    "model.add(Convolution2D(256,3,3 ,border_mode='same'))\n",
    "model.add(LeakyReLU(alpha=0.1))\n",
    "model.add(MaxPooling2D(pool_size=(2, 2),border_mode='valid'))\n",
    "model.add(Convolution2D(512,3,3 ,border_mode='same'))\n",
    "model.add(LeakyReLU(alpha=0.1))\n",
    "model.add(MaxPooling2D(pool_size=(2, 2),border_mode='valid'))\n",
    "model.add(Convolution2D(1024,3,3 ,border_mode='same'))\n",
    "model.add(LeakyReLU(alpha=0.1))\n",
    "model.add(Convolution2D(1024,3,3 ,border_mode='same'))\n",
    "model.add(LeakyReLU(alpha=0.1))\n",
    "model.add(Convolution2D(1024,3,3 ,border_mode='same'))\n",
    "model.add(LeakyReLU(alpha=0.1))\n",
    "model.add(Flatten())\n",
    "model.add(Dense(256))\n",
    "model.add(Dense(4096))\n",
    "model.add(LeakyReLU(alpha=0.1))\n",
    "model.add(Dense(1470))"
   ]
  },
  {
   "cell_type": "code",
   "execution_count": 9,
   "metadata": {},
   "outputs": [
    {
     "name": "stdout",
     "output_type": "stream",
     "text": [
      "_________________________________________________________________\n",
      "Layer (type)                 Output Shape              Param #   \n",
      "=================================================================\n",
      "conv2d_5 (Conv2D)            (None, 16, 448, 448)      448       \n",
      "_________________________________________________________________\n",
      "leaky_re_lu_5 (LeakyReLU)    (None, 16, 448, 448)      0         \n",
      "_________________________________________________________________\n",
      "max_pooling2d_5 (MaxPooling2 (None, 16, 224, 224)      0         \n",
      "_________________________________________________________________\n",
      "conv2d_6 (Conv2D)            (None, 32, 224, 224)      4640      \n",
      "_________________________________________________________________\n",
      "leaky_re_lu_6 (LeakyReLU)    (None, 32, 224, 224)      0         \n",
      "_________________________________________________________________\n",
      "max_pooling2d_6 (MaxPooling2 (None, 32, 112, 112)      0         \n",
      "_________________________________________________________________\n",
      "conv2d_7 (Conv2D)            (None, 64, 112, 112)      18496     \n",
      "_________________________________________________________________\n",
      "leaky_re_lu_7 (LeakyReLU)    (None, 64, 112, 112)      0         \n",
      "_________________________________________________________________\n",
      "max_pooling2d_7 (MaxPooling2 (None, 64, 56, 56)        0         \n",
      "_________________________________________________________________\n",
      "conv2d_8 (Conv2D)            (None, 128, 56, 56)       73856     \n",
      "_________________________________________________________________\n",
      "leaky_re_lu_8 (LeakyReLU)    (None, 128, 56, 56)       0         \n",
      "_________________________________________________________________\n",
      "max_pooling2d_8 (MaxPooling2 (None, 128, 28, 28)       0         \n",
      "_________________________________________________________________\n",
      "conv2d_9 (Conv2D)            (None, 256, 28, 28)       295168    \n",
      "_________________________________________________________________\n",
      "leaky_re_lu_9 (LeakyReLU)    (None, 256, 28, 28)       0         \n",
      "_________________________________________________________________\n",
      "max_pooling2d_9 (MaxPooling2 (None, 256, 14, 14)       0         \n",
      "_________________________________________________________________\n",
      "conv2d_10 (Conv2D)           (None, 512, 14, 14)       1180160   \n",
      "_________________________________________________________________\n",
      "leaky_re_lu_10 (LeakyReLU)   (None, 512, 14, 14)       0         \n",
      "_________________________________________________________________\n",
      "max_pooling2d_10 (MaxPooling (None, 512, 7, 7)         0         \n",
      "_________________________________________________________________\n",
      "conv2d_11 (Conv2D)           (None, 1024, 7, 7)        4719616   \n",
      "_________________________________________________________________\n",
      "leaky_re_lu_11 (LeakyReLU)   (None, 1024, 7, 7)        0         \n",
      "_________________________________________________________________\n",
      "conv2d_12 (Conv2D)           (None, 1024, 7, 7)        9438208   \n",
      "_________________________________________________________________\n",
      "leaky_re_lu_12 (LeakyReLU)   (None, 1024, 7, 7)        0         \n",
      "_________________________________________________________________\n",
      "conv2d_13 (Conv2D)           (None, 1024, 7, 7)        9438208   \n",
      "_________________________________________________________________\n",
      "leaky_re_lu_13 (LeakyReLU)   (None, 1024, 7, 7)        0         \n",
      "_________________________________________________________________\n",
      "flatten_1 (Flatten)          (None, 50176)             0         \n",
      "_________________________________________________________________\n",
      "dense_1 (Dense)              (None, 256)               12845312  \n",
      "_________________________________________________________________\n",
      "dense_2 (Dense)              (None, 4096)              1052672   \n",
      "_________________________________________________________________\n",
      "leaky_re_lu_14 (LeakyReLU)   (None, 4096)              0         \n",
      "_________________________________________________________________\n",
      "dense_3 (Dense)              (None, 1470)              6022590   \n",
      "=================================================================\n",
      "Total params: 45,089,374\n",
      "Trainable params: 45,089,374\n",
      "Non-trainable params: 0\n",
      "_________________________________________________________________\n"
     ]
    }
   ],
   "source": [
    "model.summary()"
   ]
  },
  {
   "cell_type": "code",
   "execution_count": null,
   "metadata": {
    "collapsed": true
   },
   "outputs": [],
   "source": [
    "#loading pre-trained weights"
   ]
  },
  {
   "cell_type": "code",
   "execution_count": 13,
   "metadata": {
    "collapsed": true
   },
   "outputs": [],
   "source": [
    "import os\n",
    "os.chdir(\"/Users/pratham/Downloads\")"
   ]
  },
  {
   "cell_type": "code",
   "execution_count": 8,
   "metadata": {
    "collapsed": true
   },
   "outputs": [],
   "source": [
    "import h5py"
   ]
  },
  {
   "cell_type": "code",
   "execution_count": 1,
   "metadata": {},
   "outputs": [],
   "source": [
    "load_weights(model,'tiny-yolo-voic.weights')"
   ]
  },
  {
   "cell_type": "code",
   "execution_count": null,
   "metadata": {
    "collapsed": true
   },
   "outputs": [],
   "source": [
    "#Apply the model to a test image\n",
    "imagePath = './test_images/test1.jpg'\n",
    "image = plt.imread(imagePath)\n",
    "image_crop = image[300:650,500:,:]\n",
    "resized = cv2.resize(image_crop,(448,448))"
   ]
  },
  {
   "cell_type": "code",
   "execution_count": null,
   "metadata": {
    "collapsed": true
   },
   "outputs": [],
   "source": [
    "batch = np.transpose(resized,(2,0,1))\n",
    "batch = 2*(batch/255.) - 1\n",
    "batch = np.expand_dims(batch, axis=0)\n",
    "out = model.predict(batch)"
   ]
  },
  {
   "cell_type": "code",
   "execution_count": null,
   "metadata": {
    "collapsed": true
   },
   "outputs": [],
   "source": [
    "boxes = yolo_net_out_to_car_boxes(out[0], threshold = 0.17)\n"
   ]
  },
  {
   "cell_type": "code",
   "execution_count": null,
   "metadata": {
    "collapsed": true
   },
   "outputs": [],
   "source": [
    "f,(ax1,ax2) = plt.subplots(1,2,figsize=(16,6))\n",
    "ax1.imshow(image)\n",
    "ax2.imshow(draw_box(boxes,plt.imread(imagePath),[[500,1280],[300,650]]))"
   ]
  },
  {
   "cell_type": "code",
   "execution_count": null,
   "metadata": {
    "collapsed": true
   },
   "outputs": [],
   "source": [
    "#Apply to a video\n",
    "def frame_func(image):\n",
    "    crop = image[300:650,500:,:]\n",
    "    resized = cv2.resize(crop,(448,448))\n",
    "    batch = np.array([resized[:,:,0],resized[:,:,1],resized[:,:,2]])\n",
    "    batch = 2*(batch/255.) - 1\n",
    "    batch = np.expand_dims(batch, axis=0)\n",
    "    out = model.predict(batch)\n",
    "    boxes = yolo_net_out_to_car_boxes(out[0], threshold = 0.17)\n",
    "    return draw_box(boxes,image,[[500,1280],[300,650]])"
   ]
  },
  {
   "cell_type": "code",
   "execution_count": null,
   "metadata": {
    "collapsed": true
   },
   "outputs": [],
   "source": [
    "project_video_output = './project_video_output.mp4'\n",
    "clip1 = VideoFileClip(\"./project_video.mp4\")"
   ]
  },
  {
   "cell_type": "code",
   "execution_count": null,
   "metadata": {
    "collapsed": true
   },
   "outputs": [],
   "source": [
    "lane_clip = clip1.fl_image(frame_func) #NOTE: this function expects color images!!\n",
    "%time lane_clip.write_videofile(project_video_output, audio=False)"
   ]
  }
 ],
 "metadata": {
  "kernelspec": {
   "display_name": "Python 2",
   "language": "python",
   "name": "python2"
  },
  "language_info": {
   "codemirror_mode": {
    "name": "ipython",
    "version": 2
   },
   "file_extension": ".py",
   "mimetype": "text/x-python",
   "name": "python",
   "nbconvert_exporter": "python",
   "pygments_lexer": "ipython2",
   "version": "2.7.13"
  }
 },
 "nbformat": 4,
 "nbformat_minor": 2
}
